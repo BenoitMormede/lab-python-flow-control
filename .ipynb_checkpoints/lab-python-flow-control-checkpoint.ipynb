{
 "cells": [
  {
   "cell_type": "markdown",
   "id": "d3bfc191-8885-42ee-b0a0-bbab867c6f9f",
   "metadata": {
    "tags": []
   },
   "source": [
    "# Lab | Flow Control"
   ]
  },
  {
   "cell_type": "markdown",
   "id": "3851fcd1-cf98-4653-9c89-e003b7ec9400",
   "metadata": {},
   "source": [
    "## Exercise: Managing Customer Orders Optimized\n",
    "\n",
    "In the last lab, you were starting an online store that sells various products. To ensure smooth operations, you developed a program that manages customer orders and inventory.\n",
    "\n",
    "You did so without using flow control. Let's go a step further and improve this code.\n",
    "\n",
    "Follow the steps below to complete the exercise:\n",
    "\n",
    "1. Look at your code from the lab data structures, and improve repeated code with loops.\n",
    "\n",
    "2. Instead of asking the user to input the name of three products that a customer wants to order, do the following:\n",
    "    \n",
    "    a. Prompt the user to enter the name of a product that a customer wants to order.\n",
    "    \n",
    "    b. Add the product name to the \"customer_orders\" set.\n",
    "    \n",
    "    c. Ask the user if they want to add another product (yes/no).\n",
    "    \n",
    "    d. Continue the loop until the user does not want to add another product.\n",
    "\n",
    "3. Instead of updating the inventory by subtracting 1 from the quantity of each product, only do it for  the products that were ordered (those in \"customer_orders\")."
   ]
  },
  {
   "cell_type": "code",
   "execution_count": 94,
   "id": "672124cf-d6f8-449f-978a-cd1b31534ed5",
   "metadata": {},
   "outputs": [],
   "source": [
    "products = [\"t-shirt\", \"mug\", \"hat\", \"book\", \"keychain\"] #create product list\n",
    "inventory = {} # create empty dictionnary"
   ]
  },
  {
   "cell_type": "code",
   "execution_count": 96,
   "id": "64d8ec91-747c-4029-a97a-47e81af8e461",
   "metadata": {},
   "outputs": [
    {
     "name": "stdin",
     "output_type": "stream",
     "text": [
      "Enter quantity of t-shirt 5\n",
      "Enter quantity of mug 5\n",
      "Enter quantity of hat 5\n",
      "Enter quantity of book 5\n",
      "Enter quantity of keychain 5\n"
     ]
    },
    {
     "name": "stdout",
     "output_type": "stream",
     "text": [
      "{'t-shirt': 5, 'mug': 5, 'hat': 5, 'book': 5, 'keychain': 5}\n"
     ]
    }
   ],
   "source": [
    "for item in products:# create a loop to iterate on items from products\n",
    "    qty = input(f\"Enter quantity of {item}\") # ask user input qty\n",
    "    inventory[item] = int(qty) # store integer qty for item in dictionnary\n",
    "print(inventory)"
   ]
  },
  {
   "cell_type": "code",
   "execution_count": 98,
   "id": "5e14cccb-1edd-46da-bda9-7b673140dd8a",
   "metadata": {},
   "outputs": [],
   "source": [
    "customer_orders = set() #create empty set to store customer order"
   ]
  },
  {
   "cell_type": "code",
   "execution_count": 100,
   "id": "bb09e509-2f3c-41ff-b5dd-5e3497fb59b8",
   "metadata": {},
   "outputs": [
    {
     "name": "stdin",
     "output_type": "stream",
     "text": [
      "Please enter an item to order mug\n",
      "Would you like to order another item ? yes / no? yes\n",
      "Please enter an item to order car\n",
      "please enter an item from the product list hat\n",
      "Would you like to order another item ? yes / no? no\n"
     ]
    },
    {
     "name": "stdout",
     "output_type": "stream",
     "text": [
      "{'hat', 'mug'}\n"
     ]
    }
   ],
   "source": [
    "user_choice = \"yes\" #create a variable for user choice set default value to yes\n",
    "\n",
    "while user_choice == \"yes\": #create a loop running as long as choice is yes\n",
    "    item = input(\"Please enter an item to order\")\n",
    "    if item in products:#check if user entry belongs to list of products\n",
    "        customer_orders.add(item) #if yes add to customer order\n",
    "    else:\n",
    "        item = input (\"please enter an item from the product list\")\n",
    "        customer_orders.add(item) #if yes add to customer order\n",
    "        \n",
    "    user_choice = input(\"Would you like to order another item ? yes / no?\")\n",
    "    \n",
    "print(customer_orders)"
   ]
  },
  {
   "cell_type": "code",
   "execution_count": 102,
   "id": "b9cec974-dcc0-4f06-87bd-1ac2ba280a83",
   "metadata": {},
   "outputs": [
    {
     "name": "stdout",
     "output_type": "stream",
     "text": [
      "Order statistics\n",
      "Total products ordered: 2\n",
      "Percentage of Products Ordered: 40.0 %\n"
     ]
    }
   ],
   "source": [
    "order_status=(len(customer_orders),len(customer_orders)/len(products))\n",
    "\n",
    "print(\"Order statistics\")\n",
    "print(f\"Total products ordered: {order_status[0]}\")\n",
    "print(f\"Percentage of Products Ordered: {order_status[1]*100} %\")"
   ]
  },
  {
   "cell_type": "code",
   "execution_count": 104,
   "id": "6c41f9d6-3219-4df7-9b10-6c01e16d40a7",
   "metadata": {},
   "outputs": [
    {
     "name": "stdout",
     "output_type": "stream",
     "text": [
      "inventory before order is {'t-shirt': 5, 'mug': 5, 'hat': 5, 'book': 5, 'keychain': 5}\n",
      "inventory after order is {'t-shirt': 5, 'mug': 4, 'hat': 4, 'book': 5, 'keychain': 5}\n"
     ]
    }
   ],
   "source": [
    "print(f\"inventory before order is {inventory}\")\n",
    "\n",
    "for item in customer_orders:#create a loop itarating over items in customer order\n",
    "    if inventory[item]>0: #check if there is a stock for this item\n",
    "        inventory[item] -= 1 #reduce the qty by one\n",
    "\n",
    "print(f\"inventory after order is {inventory}\")"
   ]
  }
 ],
 "metadata": {
  "kernelspec": {
   "display_name": "Python 3 (ipykernel)",
   "language": "python",
   "name": "python3"
  },
  "language_info": {
   "codemirror_mode": {
    "name": "ipython",
    "version": 3
   },
   "file_extension": ".py",
   "mimetype": "text/x-python",
   "name": "python",
   "nbconvert_exporter": "python",
   "pygments_lexer": "ipython3",
   "version": "3.12.4"
  }
 },
 "nbformat": 4,
 "nbformat_minor": 5
}
